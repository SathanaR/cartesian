{
 "cells": [
  {
   "cell_type": "code",
   "execution_count": 9,
   "id": "a0dd7798",
   "metadata": {},
   "outputs": [],
   "source": [
    "def reverse_sentence(sentence):\n",
    "    words = sentence.split(' ')\n",
    "    ans = ' '.join(reversed(words))\n",
    "    ans=ans.capitalize()\n",
    "    return ans"
   ]
  },
  {
   "cell_type": "code",
   "execution_count": 10,
   "id": "87cda443",
   "metadata": {},
   "outputs": [
    {
     "name": "stdout",
     "output_type": "stream",
     "text": [
      "\"This declaration represents a political commitment among declaration partners to advance a positive vision for the Internet in this era of a united europe\"\n",
      "\"Europe united a of era this in internet the for vision positive a advance to partners declaration among commitment political a represents declaration this\"\n"
     ]
    }
   ],
   "source": [
    "inp=str(input())\n",
    "inp=eval(inp)\n",
    "print ('\"{}\"'.format(reverse_sentence(inp)))"
   ]
  },
  {
   "cell_type": "code",
   "execution_count": 11,
   "id": "ef1e8173",
   "metadata": {},
   "outputs": [],
   "source": [
    "def word_count(str):\n",
    "    counts = dict()\n",
    "    words = str.split()\n",
    "\n",
    "    for word in words:\n",
    "        if word in counts:\n",
    "            counts[word] += 1\n",
    "        else:\n",
    "            counts[word] = 1\n",
    "\n",
    "    return counts"
   ]
  },
  {
   "cell_type": "code",
   "execution_count": 12,
   "id": "dc7a3463",
   "metadata": {},
   "outputs": [
    {
     "name": "stdout",
     "output_type": "stream",
     "text": [
      "a    : 3 times\n",
      "declaration    : 2 times\n"
     ]
    }
   ],
   "source": [
    "input_freq=word_count(inp)\n",
    "sorted_values = sorted(input_freq.items(), key=lambda y: y[1], reverse=True)\n",
    "answer=sorted_values[:2]\n",
    "for i in answer:\n",
    "    print(i[0],'   :', i[1],'times')"
   ]
  },
  {
   "cell_type": "code",
   "execution_count": null,
   "id": "f2a9d031",
   "metadata": {},
   "outputs": [],
   "source": []
  }
 ],
 "metadata": {
  "kernelspec": {
   "display_name": "Python 3 (ipykernel)",
   "language": "python",
   "name": "python3"
  },
  "language_info": {
   "codemirror_mode": {
    "name": "ipython",
    "version": 3
   },
   "file_extension": ".py",
   "mimetype": "text/x-python",
   "name": "python",
   "nbconvert_exporter": "python",
   "pygments_lexer": "ipython3",
   "version": "3.9.12"
  }
 },
 "nbformat": 4,
 "nbformat_minor": 5
}

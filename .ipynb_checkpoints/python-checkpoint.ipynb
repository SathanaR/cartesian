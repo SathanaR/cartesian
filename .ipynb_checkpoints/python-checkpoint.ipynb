{
 "cells": [
  {
   "cell_type": "code",
   "execution_count": 1,
   "id": "a0dd7798",
   "metadata": {},
   "outputs": [],
   "source": [
    "def reverse_sentence(sentence):\n",
    "    sentence=sentence.lower()\n",
    "    words = sentence.split(' ')\n",
    "    ans = ' '.join(reversed(words))\n",
    "    ans=ans.capitalize()\n",
    "    return ans\n",
    "def word_count(str):\n",
    "    counts = dict()\n",
    "    words = str.split()\n",
    "\n",
    "    for word in words:\n",
    "        if word in counts:\n",
    "            counts[word] += 1\n",
    "        else:\n",
    "            counts[word] = 1\n",
    "    sorted_values = sorted(counts.items(), key=lambda y: y[1], reverse=True)\n",
    "    answer=sorted_values[:2]\n",
    "    return answer"
   ]
  },
  {
   "cell_type": "code",
   "execution_count": 2,
   "id": "87cda443",
   "metadata": {},
   "outputs": [
    {
     "name": "stdout",
     "output_type": "stream",
     "text": [
      "\"This declaration represents a political commitment among declaration partners to advance a positive vision for the Internet in this era of a united europe\"\n",
      "REVERSED STRING  :\n",
      "\"Europe united a of era this in internet the for vision positive a advance to partners declaration among commitment political a represents declaration this\"\n",
      "OCCURANCE OF WORDS  :\n",
      "a    : 3 times\n",
      "this    : 2 times\n"
     ]
    }
   ],
   "source": [
    "inp=str(input())\n",
    "inp=eval(inp)\n",
    "result=reverse_sentence(inp)\n",
    "print(\"REVERSED STRING  :\")\n",
    "print ('\"{}\"'.format(result))\n",
    "input_freq=word_count(result)\n",
    "print(\"OCCURANCE OF WORDS  :\")\n",
    "for i in input_freq:\n",
    "    print(i[0],'   :', i[1],'times')"
   ]
  },
  {
   "cell_type": "code",
   "execution_count": null,
   "id": "f2a9d031",
   "metadata": {},
   "outputs": [],
   "source": []
  }
 ],
 "metadata": {
  "kernelspec": {
   "display_name": "Python 3 (ipykernel)",
   "language": "python",
   "name": "python3"
  },
  "language_info": {
   "codemirror_mode": {
    "name": "ipython",
    "version": 3
   },
   "file_extension": ".py",
   "mimetype": "text/x-python",
   "name": "python",
   "nbconvert_exporter": "python",
   "pygments_lexer": "ipython3",
   "version": "3.9.12"
  }
 },
 "nbformat": 4,
 "nbformat_minor": 5
}
